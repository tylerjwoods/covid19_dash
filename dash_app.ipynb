{
 "cells": [
  {
   "cell_type": "code",
   "execution_count": 1,
   "metadata": {},
   "outputs": [],
   "source": [
    "import pandas as pd\n",
    "import matplotlib.pyplot as plt\n",
    "import plotly.express as px\n",
    "import numpy as np\n",
    "import dash\n",
    "import dash_html_components as html\n",
    "import dash_core_components as dcc\n",
    "from dash.dependencies import Input, Output\n",
    "import dash_bootstrap_components as dbc"
   ]
  },
  {
   "cell_type": "code",
   "execution_count": 6,
   "metadata": {},
   "outputs": [],
   "source": [
    "df = pd.read_pickle('data/all_data.csv')"
   ]
  },
  {
   "cell_type": "code",
   "execution_count": 7,
   "metadata": {},
   "outputs": [
    {
     "data": {
      "text/plain": [
       "pandas._libs.tslibs.timestamps.Timestamp"
      ]
     },
     "execution_count": 7,
     "metadata": {},
     "output_type": "execute_result"
    }
   ],
   "source": [
    "type(df['date'][0])"
   ]
  },
  {
   "cell_type": "code",
   "execution_count": 11,
   "metadata": {},
   "outputs": [
    {
     "data": {
      "text/plain": [
       "0         384.0\n",
       "1       11395.0\n",
       "2        6424.0\n",
       "3           NaN\n",
       "4        5639.0\n",
       "         ...   \n",
       "5332        NaN\n",
       "5333        NaN\n",
       "5334        NaN\n",
       "5335        NaN\n",
       "5336        NaN\n",
       "Name: recovered, Length: 5337, dtype: float64"
      ]
     },
     "execution_count": 11,
     "metadata": {},
     "output_type": "execute_result"
    }
   ],
   "source": [
    "df['po']"
   ]
  },
  {
   "cell_type": "code",
   "execution_count": 64,
   "metadata": {},
   "outputs": [],
   "source": [
    "#col_options"
   ]
  },
  {
   "cell_type": "code",
   "execution_count": 15,
   "metadata": {},
   "outputs": [],
   "source": [
    "# display = [{'label': 'Current Hospitalizations', 'value': 'current_hospitals'},\n",
    "#           {'label': 'Current Positive', 'value': 'current_positive'}]"
   ]
  },
  {
   "cell_type": "code",
   "execution_count": 10,
   "metadata": {},
   "outputs": [],
   "source": [
    "# state_options = [dict(label=x, value=x) for x in df.state.unique()]\n",
    "# display_options = [{'label': 'Currently Hospitalized', 'value': 'current_hospitals'},\n",
    "#                   {'label': 'Currently Positive', 'value': 'current_positive'},\n",
    "#                   {'label': 'Positive Test Rate', 'value': 'positive_test_rate'},\n",
    "#                   {'label': 'Positive Cases', 'value': 'positive'},\n",
    "#                   {'label': 'Recovered Cases', 'value': 'recovered'}]\n",
    "\n",
    "# app = dash.Dash(\n",
    "#     external_stylesheets=[dbc.themes.SKETCHY]\n",
    "# )\n",
    "\n",
    "# app.layout = html.Div(\n",
    "#     children = [\n",
    "#         html.H1(\"COVID-19 Data\"),\n",
    "#         html.H4(\"This is a simple app to explore COVID-19 Data for states.\"),\n",
    "#         html.H5(\"Data is from https://covidtracking.com/api\"),\n",
    "#         html.Div([\n",
    "#             html.P(['State:',dcc.Dropdown(id='state', options=state_options)]\n",
    "#         )],\n",
    "#             style={'width':'20%', 'display': 'inline-block'}\n",
    "#         ),\n",
    "#         html.Div([\n",
    "#             html.P(['Display:',dcc.Dropdown(id='display', options=display_options)]\n",
    "#         )],\n",
    "#             style={'width':'30%', 'display': 'inline-block'}\n",
    "#         ),\n",
    "#         dcc.Graph(id='graph', figure=px.line())\n",
    "# ])\n",
    "\n",
    "# @app.callback(\n",
    "#     Output('graph', 'figure'), \n",
    "#     [Input('state', 'value'),\n",
    "#      Input('display', 'value')])\n",
    "\n",
    "# def cb(state, display):\n",
    "#     if display == 'current_positive':\n",
    "#         df = pd.read_csv('data/current_positive.csv').set_index('state').replace(0, np.NaN)\n",
    "#         title_ = 'Number of Currently Positive Cases in {}'.format(state)\n",
    "#     elif display == 'current_hospitals':\n",
    "#         df = pd.read_csv('data/current_hospitals.csv').set_index('state').replace(0, np.NaN)\n",
    "#         title_ = 'Number of Current Hospitalizations in {}'.format(state)\n",
    "#     elif display == 'positive':\n",
    "#         df = pd.read_csv('data/positive.csv').set_index('state').replace(0, np.NaN)\n",
    "#         title_ = 'Total Number of Positives Cases in {}'.format(state)\n",
    "#     elif display == 'recovered':\n",
    "#         df = pd.read_csv('data/recovered.csv').set_index('state').replace(0, np.NaN)\n",
    "#         title_ = 'Total Number of Recovered Cases in {}'.format(state)\n",
    "#     else:\n",
    "#         df = pd.read_csv('data/positive_test_rate.csv').set_index('state').replace(0, np.NaN)\n",
    "#         title_ = 'Positive Test Rate in {}'.format(state)\n",
    "#     fig = px.line(df, x=df.columns.values, y=df.loc[state, :])\n",
    "#     fig.update_layout(\n",
    "#         title=title_,\n",
    "#         xaxis_title=\"Date\",\n",
    "#         yaxis_title=\"\",\n",
    "#         font=dict(\n",
    "#             family=\"Courier New, monospace\",\n",
    "#             size=14,\n",
    "#             color=\"#7f7f7f\"\n",
    "#     ))\n",
    "#     fig.update_traces(mode=\"markers+lines\", hovertemplate=None)\n",
    "#     fig.update_layout(hovermode=\"x\")\n",
    "    \n",
    "#     return fig\n",
    "\n",
    "# #app.run_server()"
   ]
  },
  {
   "cell_type": "code",
   "execution_count": 21,
   "metadata": {},
   "outputs": [
    {
     "name": "stdout",
     "output_type": "stream",
     "text": [
      " * Serving Flask app \"__main__\" (lazy loading)\n",
      " * Environment: production\n",
      "\u001b[31m   WARNING: This is a development server. Do not use it in a production deployment.\u001b[0m\n",
      "\u001b[2m   Use a production WSGI server instead.\u001b[0m\n",
      " * Debug mode: off\n"
     ]
    },
    {
     "name": "stderr",
     "output_type": "stream",
     "text": [
      " * Running on http://127.0.0.1:8050/ (Press CTRL+C to quit)\n",
      "127.0.0.1 - - [09/Jun/2020 17:52:43] \"\u001b[37mGET / HTTP/1.1\u001b[0m\" 200 -\n",
      "127.0.0.1 - - [09/Jun/2020 17:52:44] \"\u001b[37mGET /_dash-dependencies HTTP/1.1\u001b[0m\" 200 -\n",
      "127.0.0.1 - - [09/Jun/2020 17:52:44] \"\u001b[37mGET /_dash-layout HTTP/1.1\u001b[0m\" 200 -\n",
      "127.0.0.1 - - [09/Jun/2020 17:52:44] \"\u001b[37mPOST /_dash-update-component HTTP/1.1\u001b[0m\" 200 -\n",
      "127.0.0.1 - - [09/Jun/2020 17:52:44] \"\u001b[37mGET /_favicon.ico?v=1.11.0 HTTP/1.1\u001b[0m\" 200 -\n",
      "127.0.0.1 - - [09/Jun/2020 17:52:52] \"\u001b[37mPOST /_dash-update-component HTTP/1.1\u001b[0m\" 200 -\n",
      "127.0.0.1 - - [09/Jun/2020 17:52:54] \"\u001b[37mPOST /_dash-update-component HTTP/1.1\u001b[0m\" 200 -\n",
      "127.0.0.1 - - [09/Jun/2020 17:53:05] \"\u001b[37mPOST /_dash-update-component HTTP/1.1\u001b[0m\" 200 -\n",
      "127.0.0.1 - - [09/Jun/2020 17:53:07] \"\u001b[37mPOST /_dash-update-component HTTP/1.1\u001b[0m\" 200 -\n",
      "127.0.0.1 - - [09/Jun/2020 17:53:10] \"\u001b[37mPOST /_dash-update-component HTTP/1.1\u001b[0m\" 200 -\n"
     ]
    }
   ],
   "source": [
    "# load the pickled data frame\n",
    "df = pd.read_pickle('data/all_data.csv')\n",
    "state_options = [dict(label=x, value=x) for x in df.state.unique()]\n",
    "display_options = [{'label': 'Currently Hospitalized', 'value': 'current_hospitals'},\n",
    "                  {'label': 'Positive Test Rate', 'value': 'positive_test_rate'},\n",
    "                  {'label': 'Positive Cases', 'value': 'positive'},\n",
    "                  {'label': 'Recovered Cases', 'value': 'recovered'}]\n",
    "\n",
    "app = dash.Dash(\n",
    "    external_stylesheets=[dbc.themes.SKETCHY]\n",
    ")\n",
    "\n",
    "app.layout = html.Div(\n",
    "    children = [\n",
    "        html.Img(src=app.get_asset_url('covid19img.jpg'), id='logo', height=200),\n",
    "        html.H1(\"COVID-19 Data\"),\n",
    "        html.H4(\"This is a simple app to explore COVID-19 Data for states.\"),\n",
    "        html.H5(\"Data is from https://covidtracking.com/api\"),\n",
    "        html.Div([\n",
    "            html.P(['State:',dcc.Dropdown(id='state', options=state_options)]\n",
    "        )],\n",
    "            style={'width':'20%', 'display': 'inline-block'}\n",
    "        ),\n",
    "        html.Div([\n",
    "            html.P(['Display:',dcc.Dropdown(id='display', options=display_options)]\n",
    "        )],\n",
    "            style={'width':'30%', 'display': 'inline-block'}\n",
    "        ),\n",
    "        dcc.Graph(id='graph', figure=px.line())\n",
    "])\n",
    "\n",
    "@app.callback(\n",
    "    Output('graph', 'figure'), \n",
    "    [Input('state', 'value'),\n",
    "     Input('display', 'value')])\n",
    "\n",
    "def cb(state, display):\n",
    "    if display == 'positive':\n",
    "        x_ = df[df['state']==state]['date']\n",
    "        y_ = df[df['state']==state]['positive']\n",
    "        title_ = 'Total Number of Positives Cases in {}'.format(state)\n",
    "    elif display == 'current_hospitals':\n",
    "        x_ = df[df['state']==state]['date']\n",
    "        y_ = df[df['state']==state]['hospitalizedCurrently']\n",
    "        title_ = 'Number of Current Hospitalizations in {}'.format(state)\n",
    "    elif display == 'recovered':\n",
    "        x_ = df[df['state']==state]['date']\n",
    "        y_ = df[df['state']==state]['recovered']\n",
    "        title_ = 'Total Number of Recovered Cases in {}'.format(state)\n",
    "    else:\n",
    "        x_ = df[df['state']==state]['date']\n",
    "        y_ = np.round((df[df['state']==state]['positive'] / (df[df['state']==state]['positive'] + df[df['state']==state]['negative']))*100, 2)\n",
    "        title_ = 'Positive Test Rate in {}'.format(state)\n",
    "    fig = px.line(df, x=x_, y=y_)\n",
    "    fig.update_layout(\n",
    "        title=title_,\n",
    "        xaxis_title=\"Date\",\n",
    "        yaxis_title=\"\",\n",
    "        font=dict(\n",
    "            family=\"Courier New, monospace\",\n",
    "            size=14,\n",
    "            color=\"#7f7f7f\"\n",
    "    ))\n",
    "    fig.update_traces(mode=\"markers+lines\", hovertemplate=None)\n",
    "    fig.update_layout(hovermode=\"x\")\n",
    "    \n",
    "    return fig\n",
    "\n",
    "app.run_server()"
   ]
  },
  {
   "cell_type": "code",
   "execution_count": null,
   "metadata": {},
   "outputs": [],
   "source": []
  }
 ],
 "metadata": {
  "kernelspec": {
   "display_name": "Python 3",
   "language": "python",
   "name": "python3"
  },
  "language_info": {
   "codemirror_mode": {
    "name": "ipython",
    "version": 3
   },
   "file_extension": ".py",
   "mimetype": "text/x-python",
   "name": "python",
   "nbconvert_exporter": "python",
   "pygments_lexer": "ipython3",
   "version": "3.7.7"
  }
 },
 "nbformat": 4,
 "nbformat_minor": 4
}
